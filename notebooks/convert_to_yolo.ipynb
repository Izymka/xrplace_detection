{
 "cells": [
  {
   "cell_type": "code",
   "execution_count": 1,
   "metadata": {},
   "outputs": [
    {
     "name": "stdout",
     "output_type": "stream",
     "text": [
      "Requirement already satisfied: pillow in /opt/anaconda3/envs/practicum/lib/python3.11/site-packages (10.4.0)\n",
      "Requirement already satisfied: lxml in /opt/anaconda3/envs/practicum/lib/python3.11/site-packages (5.2.2)\n"
     ]
    }
   ],
   "source": [
    "!pip install pillow lxml"
   ]
  },
  {
   "cell_type": "code",
   "execution_count": 2,
   "metadata": {},
   "outputs": [],
   "source": [
    "import os\n",
    "from lxml import etree\n",
    "from PIL import Image"
   ]
  },
  {
   "cell_type": "code",
   "execution_count": null,
   "metadata": {},
   "outputs": [],
   "source": [
    "# === Настройки ===\n",
    "input_dir = 'svg_dir'  # Папка с SVG-файлами и изображениями\n",
    "image_ext = '.png'     \n",
    "class_map = {'door': 0, 'window': 1}  "
   ]
  },
  {
   "cell_type": "code",
   "execution_count": null,
   "metadata": {},
   "outputs": [],
   "source": [
    "def extract_points_from_polygon(points_str):\n",
    "    return [tuple(map(float, p.strip().split(','))) \n",
    "            for p in points_str.strip().split()]"
   ]
  },
  {
   "cell_type": "code",
   "execution_count": null,
   "metadata": {},
   "outputs": [],
   "source": [
    "def polygon_to_bbox(points):\n",
    "    x_coords, y_coords = zip(*points)\n",
    "    return min(x_coords), min(y_coords), max(x_coords), max(y_coords)"
   ]
  },
  {
   "cell_type": "code",
   "execution_count": null,
   "metadata": {},
   "outputs": [],
   "source": [
    "def normalize_bbox(x_min, y_min, x_max, y_max, img_w, img_h):\n",
    "    x_center = ((x_min + x_max) / 2) / img_w\n",
    "    y_center = ((y_min + y_max) / 2) / img_h\n",
    "    width = (x_max - x_min) / img_w\n",
    "    height = (y_max - y_min) / img_h\n",
    "    return x_center, y_center, width, height"
   ]
  },
  {
   "cell_type": "code",
   "execution_count": null,
   "metadata": {},
   "outputs": [],
   "source": [
    "def convert_svg_to_yolo(svg_path, image_path, output_txt_path):\n",
    "    tree = etree.parse(svg_path)\n",
    "    root = tree.getroot()\n",
    "\n",
    "    img = Image.open(image_path)\n",
    "    img_w, img_h = img.size\n",
    "\n",
    "    lines = []\n",
    "\n",
    "    for elem in root.iter():\n",
    "        tag = etree.QName(elem).localname\n",
    "        if tag != 'polygon':\n",
    "            continue\n",
    "\n",
    "        attribs = elem.attrib\n",
    "        label = attribs.get('class', '') or attribs.get('id', '')\n",
    "        label = label.lower()\n",
    "\n",
    "        for name, class_id in class_map.items():\n",
    "            if name in label:\n",
    "                points_str = attribs.get('points', '')\n",
    "                if not points_str:\n",
    "                    continue\n",
    "                points = extract_points_from_polygon(points_str)\n",
    "                x_min, y_min, x_max, y_max = polygon_to_bbox(points)\n",
    "                x_c, y_c, w, h = normalize_bbox(x_min, y_min, x_max, y_max, img_w, img_h)\n",
    "                lines.append(f\"{class_id} {x_c:.6f} {y_c:.6f} {w:.6f} {h:.6f}\")\n",
    "                break\n",
    "\n",
    "    if lines:\n",
    "        with open(output_txt_path, 'w') as f:\n",
    "            f.write('\\n'.join(lines))\n",
    "        print(f\"Saved: {output_txt_path}\")\n"
   ]
  },
  {
   "cell_type": "code",
   "execution_count": null,
   "metadata": {},
   "outputs": [],
   "source": [
    "# === Основной цикл ===\n",
    "for filename in os.listdir(input_dir):\n",
    "    if not filename.endswith('.svg'):\n",
    "        continue\n",
    "\n",
    "    base = os.path.splitext(filename)[0]\n",
    "    svg_path = os.path.join(input_dir, filename)\n",
    "    image_path = os.path.join(input_dir, base + image_ext)\n",
    "    output_txt_path = os.path.join(input_dir, base + '.txt')\n",
    "\n",
    "    if not os.path.exists(image_path):\n",
    "        print(f\"[!] Image not found for {filename}\")\n",
    "        continue\n",
    "\n",
    "    convert_svg_to_yolo(svg_path, image_path, output_txt_path)"
   ]
  }
 ],
 "metadata": {
  "kernelspec": {
   "display_name": "practicum",
   "language": "python",
   "name": "python3"
  },
  "language_info": {
   "codemirror_mode": {
    "name": "ipython",
    "version": 3
   },
   "file_extension": ".py",
   "mimetype": "text/x-python",
   "name": "python",
   "nbconvert_exporter": "python",
   "pygments_lexer": "ipython3",
   "version": "3.11.9"
  }
 },
 "nbformat": 4,
 "nbformat_minor": 2
}
